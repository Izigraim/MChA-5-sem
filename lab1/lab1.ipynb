{
 "cells": [
  {
   "cell_type": "markdown",
   "metadata": {},
   "source": [
    "# Лабораторная работа  №1\n",
    "\n",
    "# Решение краевых задач методом разностных аппроксимаций"
   ]
  },
  {
   "cell_type": "markdown",
   "metadata": {},
   "source": [
    "Составить разностную схему и получить численное решение краевой задачи с точностью $10^{-3}$"
   ]
  },
  {
   "cell_type": "markdown",
   "metadata": {},
   "source": [
    "$y(-1)=0, y(1) = 0$"
   ]
  },
  {
   "cell_type": "code",
   "execution_count": 16,
   "metadata": {
    "pycharm": {
     "is_executing": false
    }
   },
   "outputs": [],
   "source": [
    "import matplotlib.pyplot as plot\n",
    "import numpy as np\n",
    "from math import sin, cos, tan"
   ]
  },
  {
   "cell_type": "markdown",
   "metadata": {},
   "source": [
    "## Задача 1"
   ]
  },
  {
   "cell_type": "markdown",
   "metadata": {},
   "source": [
    "$y''+(1+x^2)y=-1, -1 \\leq x \\leq 1$"
   ]
  },
  {
   "cell_type": "markdown",
   "metadata": {},
   "source": [
    "Частный случай линейной краевой задачи: $y''-p(x)y=f(x)$, где $p(x)=-(1+x^2)$, а $f(x)=-1$"
   ]
  },
  {
   "cell_type": "code",
   "execution_count": 17,
   "metadata": {
    "pycharm": {
     "is_executing": false
    }
   },
   "outputs": [],
   "source": [
    "def f(x):\n",
    "    return -1\n",
    "\n",
    "def p(x):\n",
    "    return -(1 + x**2)\n",
    "\n",
    "a = -1; b = 1; A = 0; B = 0"
   ]
  },
  {
   "cell_type": "code",
   "execution_count": 18,
   "metadata": {
    "pycharm": {
     "is_executing": false
    }
   },
   "outputs": [],
   "source": [
    "def get_h(n):\n",
    "    return (b - a) / n\n",
    "\n",
    "def get_x(n, h):\n",
    "    return [a + k * h for k in range(n + 1)]\n",
    "\n",
    "def get_system(n, h, x):\n",
    "    matrix = [[0 for _ in range(n + 1)] for _ in range(n + 1)]\n",
    "    matrix[0][0] = matrix[n][n] = 1\n",
    "    for i in range(1, n):\n",
    "        matrix[i][i - 1] = 1\n",
    "        matrix[i][i] = -(2 + h**2 * p(x[i]))\n",
    "        matrix[i][i + 1] = 1\n",
    "    matrix = np.array(matrix)\n",
    "    vector = [0 for _ in range(n + 1)]\n",
    "    for i in range(1, n):\n",
    "        vector[i] = h**2 * f(x[i])\n",
    "    vector = np.array(vector)\n",
    "    return matrix, vector\n",
    "\n",
    "def solve_system(n):\n",
    "    h = get_h(n)\n",
    "    x = get_x(n, h)\n",
    "    matrix, vector = get_system(n, h, x)\n",
    "    y = list(np.linalg.solve(matrix, vector))\n",
    "    return x, y"
   ]
  },
  {
   "cell_type": "code",
   "execution_count": 19,
   "metadata": {
    "pycharm": {
     "is_executing": false
    }
   },
   "outputs": [],
   "source": [
    "n = 4"
   ]
  },
  {
   "cell_type": "code",
   "execution_count": 20,
   "metadata": {
    "pycharm": {
     "is_executing": false
    }
   },
   "outputs": [],
   "source": [
    "x = []\n",
    "y = []\n",
    "x0, y0 = solve_system(n)\n",
    "x1, y1 = solve_system(2*n)\n",
    "while True:\n",
    "    check = []\n",
    "    for i in range(0, n):\n",
    "        check.append(abs(y1[2*i] - y0[i]) < 0.001)\n",
    "    n *= 2\n",
    "    if all(check):\n",
    "        break\n",
    "    else:\n",
    "        x.append(x0)\n",
    "        y.append(y0)\n",
    "        x0, y0 = x1, y1\n",
    "        x1, y1 = solve_system(2*n)"
   ]
  },
  {
   "cell_type": "code",
   "execution_count": 21,
   "metadata": {
    "pycharm": {
     "is_executing": false
    }
   },
   "outputs": [
    {
     "data": {
      "text/plain": [
       "'Достигаем точности на 64 отрезках'"
      ]
     },
     "execution_count": 21,
     "metadata": {},
     "output_type": "execute_result"
    }
   ],
   "source": [
    "f\"Достигаем точности на {n} отрезках\""
   ]
  },
  {
   "cell_type": "code",
   "execution_count": 22,
   "metadata": {
    "pycharm": {
     "is_executing": false
    }
   },
   "outputs": [
    {
     "data": {
      "image/png": "[encoded data removed]",
      "text/plain": [
       "<Figure size 432x288 with 1 Axes>"
      ]
     },
     "metadata": {
      "needs_background": "light"
     },
     "output_type": "display_data"
    }
   ],
   "source": [
    "plot.plot(np.linspace(a, b, n + 1), y1)\n",
    "for i, j in zip(x, y):\n",
    "    plot.plot(np.linspace(a, b, len(i)), j)\n",
    "plot.show()"
   ]
  },
  {
   "cell_type": "code",
   "execution_count": 23,
   "metadata": {
    "pycharm": {
     "is_executing": false
    }
   },
   "outputs": [
    {
     "data": {
      "text/plain": [
       "'Точность достигается при  y = 0.9322042384592342'"
      ]
     },
     "execution_count": 23,
     "metadata": {},
     "output_type": "execute_result"
    }
   ],
   "source": [
    "f\"Точность достигается при  y = {max(y1)}\""
   ]
  },
  {
   "cell_type": "markdown",
   "metadata": {},
   "source": [
    "## Задача 2"
   ]
  },
  {
   "cell_type": "markdown",
   "metadata": {},
   "source": [
    "$ay''+(1+bx^2)y=-1, -1 \\leq x \\leq 1$"
   ]
  },
  {
   "cell_type": "markdown",
   "metadata": {},
   "source": [
    "Разделим всё на $sin(k)$ (где $k$ - номер варианта):\n",
    "\n",
    "$ y''+(\\dfrac{1}{sin(k)}+\\dfrac{1}{tg(k)}x^2)y=\\dfrac{-1}{sin(k)}, -1 \\leq x \\leq 1$"
   ]
  },
  {
   "cell_type": "code",
   "execution_count": 24,
   "metadata": {},
   "outputs": [],
   "source": [
    "k = 6"
   ]
  },
  {
   "cell_type": "code",
   "execution_count": 25,
   "metadata": {},
   "outputs": [],
   "source": [
    "def p(x):\n",
    "    return -(1 / sin(k) + 1 / tan(k) * x**2)\n",
    "\n",
    "def f(x):\n",
    "    return -1 / sin(k)"
   ]
  },
  {
   "cell_type": "code",
   "execution_count": 26,
   "metadata": {
    "pycharm": {
     "is_executing": false
    }
   },
   "outputs": [],
   "source": [
    "n = 4"
   ]
  },
  {
   "cell_type": "code",
   "execution_count": 27,
   "metadata": {
    "pycharm": {
     "is_executing": false
    }
   },
   "outputs": [],
   "source": [
    "x = []\n",
    "y = []\n",
    "x0, y0 = solve_system(n)\n",
    "x1, y1 = solve_system(2*n)\n",
    "while True:\n",
    "    check = []\n",
    "    for i in range(0, n):\n",
    "        check.append(abs(y1[2*i] - y0[i]) < 0.001)\n",
    "    n *= 2\n",
    "    if all(check):\n",
    "        break\n",
    "    else:\n",
    "        x.append(x0)\n",
    "        y.append(y0)\n",
    "        x0, y0 = x1, y1\n",
    "        x1, y1 = solve_system(2*n)"
   ]
  },
  {
   "cell_type": "code",
   "execution_count": 28,
   "metadata": {
    "pycharm": {
     "is_executing": false
    },
    "scrolled": true
   },
   "outputs": [
    {
     "data": {
      "text/plain": [
       "'Достигаем точности на 32 отрезках'"
      ]
     },
     "execution_count": 28,
     "metadata": {},
     "output_type": "execute_result"
    }
   ],
   "source": [
    "f\"Достигаем точности на {n} отрезках\""
   ]
  },
  {
   "cell_type": "code",
   "execution_count": 29,
   "metadata": {
    "pycharm": {
     "is_executing": false
    },
    "scrolled": true
   },
   "outputs": [
    {
     "data": {
      "image/png": "[encoded data removed]",
      "text/plain": [
       "<Figure size 432x288 with 1 Axes>"
      ]
     },
     "metadata": {
      "needs_background": "light"
     },
     "output_type": "display_data"
    }
   ],
   "source": [
    "plot.plot(np.linspace(a, b, n + 1), y1)\n",
    "for i, j in zip(x, y):\n",
    "    plot.plot(np.linspace(a, b, len(i)), j)\n",
    "plot.show()"
   ]
  },
  {
   "cell_type": "code",
   "execution_count": 30,
   "metadata": {
    "pycharm": {
     "is_executing": false
    }
   },
   "outputs": [
    {
     "data": {
      "text/plain": [
       "'Точность достигается при  y = 0.0'"
      ]
     },
     "execution_count": 30,
     "metadata": {},
     "output_type": "execute_result"
    }
   ],
   "source": [
    "f\"Точность достигается при  y = {max(y1)}\""
   ]
  }
 ],
 "metadata": {
  "kernelspec": {
   "display_name": "Python 3",
   "language": "python",
   "name": "python3"
  },
  "language_info": {
   "codemirror_mode": {
    "name": "ipython",
    "version": 3
   },
   "file_extension": ".py",
   "mimetype": "text/x-python",
   "name": "python",
   "nbconvert_exporter": "python",
   "pygments_lexer": "ipython3",
   "version": "3.7.4"
  }
 },
 "nbformat": 4,
 "nbformat_minor": 4
}
